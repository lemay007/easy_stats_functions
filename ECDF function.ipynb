{
 "cells": [
  {
   "cell_type": "code",
   "execution_count": null,
   "metadata": {},
   "outputs": [],
   "source": [
    "def ecdf(data):\n",
    "    \"\"\"Compute ECDF for a one-dimensional array of measurements.\"\"\"\n",
    "    # Number of data points: n\n",
    "    n = len(data)\n",
    "\n",
    "    # x-data for the ECDF: x\n",
    "    x = np.sort(data)\n",
    "\n",
    "    # y-data for the ECDF: y\n",
    "    y = np.arange(1, n+1) / n\n",
    "\n",
    "    return x, y"
   ]
  },
  {
   "cell_type": "code",
   "execution_count": null,
   "metadata": {},
   "outputs": [],
   "source": [
    "def pearson_r(x, y):\n",
    "    \"\"\"Compute Pearson correlation coefficient between two arrays.\"\"\"\n",
    "    # Compute correlation matrix: corr_mat\n",
    "    corr_mat = np.corrcoef(x, y)\n",
    "\n",
    "    # Return entry [0,1]\n",
    "    return corr_mat[0,1]\n"
   ]
  },
  {
   "cell_type": "code",
   "execution_count": null,
   "metadata": {},
   "outputs": [],
   "source": [
    "# Compute mean and standard deviation: mu, sigma\n",
    "mu = np.mean(belmont_no_outliers)\n",
    "sigma = np.std(belmont_no_outliers)\n",
    "\n",
    "\n",
    "# Sample out of a normal distribution with this mu and sigma: samples\n",
    "samples = np.random.normal(mu, sigma, size = 10000)\n",
    "\n",
    "# Get the CDF of the samples and of the data\n",
    "x, y= ecdf(belmont_no_outliers)\n",
    "x_theor, y_theor = ecdf(samples)\n",
    "\n",
    "# Plot the CDFs and show the plot\n",
    "_ = plt.plot(x_theor, y_theor)\n",
    "_ = plt.plot(x, y, marker='.', linestyle='none')\n",
    "_ = plt.xlabel('Belmont winning time (sec.)')\n",
    "_ = plt.ylabel('CDF')\n",
    "plt.show()\n"
   ]
  },
  {
   "cell_type": "code",
   "execution_count": null,
   "metadata": {},
   "outputs": [],
   "source": [
    "def successive_poisson(tau1, tau2, size=1):\n",
    "    \"\"\"Compute time for arrival of 2 successive Poisson processes.\"\"\"\n",
    "    # Draw samples out of first exponential distribution: t1\n",
    "    t1 = np.random.exponential(tau1, size)\n",
    "\n",
    "    # Draw samples out of second exponential distribution: t2\n",
    "    t2 = np.random.exponential(tau2, size)\n",
    "\n",
    "    return t1 + t2"
   ]
  }
 ],
 "metadata": {
  "kernelspec": {
   "display_name": "Python 3",
   "language": "python",
   "name": "python3"
  },
  "language_info": {
   "codemirror_mode": {
    "name": "ipython",
    "version": 3
   },
   "file_extension": ".py",
   "mimetype": "text/x-python",
   "name": "python",
   "nbconvert_exporter": "python",
   "pygments_lexer": "ipython3",
   "version": "3.7.6"
  }
 },
 "nbformat": 4,
 "nbformat_minor": 4
}
